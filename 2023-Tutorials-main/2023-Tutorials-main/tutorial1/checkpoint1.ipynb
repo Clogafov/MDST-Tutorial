{
 "cells": [
  {
   "cell_type": "markdown",
   "metadata": {},
   "source": [
    "# Checkpoint 1"
   ]
  },
  {
   "cell_type": "markdown",
   "metadata": {},
   "source": [
    "Reminder: \n",
    "\n",
    "- You are being evaluated for compeletion and effort in this checkpoint. \n",
    "- Avoid manual labor / hard coding as much as possible, everything we've taught you so far are meant to simplify and automate your process."
   ]
  },
  {
   "cell_type": "markdown",
   "metadata": {},
   "source": [
    "We will be working with the same `states_edu.csv` that you should already be familiar with from the tutorial.\n",
    "\n",
    "We investigated Grade 8 reading score in the tutorial. For this checkpoint, you are asked to investigate another test. Here's an overview:\n",
    "\n",
    "* Choose a specific response variable to focus on\n",
    ">Grade 4 Math, Grade 4 Reading, Grade 8 Math\n",
    "* Pick or create features to use\n",
    ">Will all the features be useful in predicting test score? Are some more important than others? Should you standardize, bin, or scale the data?\n",
    "* Explore the data as it relates to that test\n",
    ">Create at least 2 visualizations (graphs), each with a caption describing the graph and what it tells us about the data\n",
    "* Create training and testing data\n",
    ">Do you want to train on all the data? Only data from the last 10 years? Only Michigan data?\n",
    "* Train a ML model to predict outcome \n",
    ">Define what you want to predict, and pick a model in sklearn to use (see sklearn <a href=\"https://scikit-learn.org/stable/modules/linear_model.html\">regressors</a>.\n",
    "* Summarize your findings\n",
    ">Write a 1 paragraph summary of what you did and make a recommendation about if and how student performance can be predicted\n",
    "\n",
    "Include comments throughout your code! Every cleanup and preprocessing task should be documented.\n",
    "\n",
    "Of course, if you're finding this assignment interesting (and we really hope you do!), you are welcome to do more than the requirements! For example, you may want to see if expenditure affects 4th graders more than 8th graders. Maybe you want to look into the extended version of this dataset and see how factors like sex and race are involved. You can include all your work in this notebook when you turn it in -- just always make sure you explain what you did and interpret your results. Good luck!"
   ]
  },
  {
   "cell_type": "markdown",
   "metadata": {},
   "source": [
    "<h2> Data Cleanup </h2>\n",
    "\n",
    "Import `numpy`, `pandas`, and `matplotlib`.\n",
    "\n",
    "(Feel free to import other libraries!)"
   ]
  },
  {
   "cell_type": "code",
   "execution_count": 107,
   "metadata": {},
   "outputs": [],
   "source": [
    "import pandas as pd\n",
    "import numpy as np\n",
    "import matplotlib.pyplot as plt"
   ]
  },
  {
   "cell_type": "markdown",
   "metadata": {},
   "source": [
    "Load in the \"states_edu.csv\" dataset and take a look at the head of the data"
   ]
  },
  {
   "cell_type": "code",
   "execution_count": 108,
   "metadata": {},
   "outputs": [
    {
     "data": {
      "text/plain": [
       "(1715, 25)"
      ]
     },
     "execution_count": 108,
     "metadata": {},
     "output_type": "execute_result"
    }
   ],
   "source": [
    "df = pd.read_csv('../data/states_edu.csv')\n",
    "df.head()\n",
    "df.shape"
   ]
  },
  {
   "cell_type": "markdown",
   "metadata": {},
   "source": [
    "You should always familiarize yourself with what each column in the dataframe represents. Read about the states_edu dataset here: https://www.kaggle.com/noriuk/us-education-datasets-unification-project"
   ]
  },
  {
   "cell_type": "markdown",
   "metadata": {},
   "source": [
    "Use this space to rename columns, deal with missing data, etc. _(optional)_"
   ]
  },
  {
   "cell_type": "code",
   "execution_count": 109,
   "metadata": {},
   "outputs": [
    {
     "data": {
      "text/plain": [
       "(602, 25)"
      ]
     },
     "execution_count": 109,
     "metadata": {},
     "output_type": "execute_result"
    }
   ],
   "source": [
    "df.rename({\n",
    "    'GRADES_PK_G': 'PK_ENR',\n",
    "    'GRADES_KG_G': 'K_ENR',\n",
    "    'GRADES_4_G': '4_ENR',\n",
    "    'GRADES_8_G': '8_ENR',\n",
    "    'GRADES_12_G': '12_ENR',\n",
    "    'GRADES_1_8_G': '1_8_ENR',\n",
    "    'GRADES_9_12_G': '9_12_ENR',\n",
    "    'GRADES_ALL_G': 'ALL_ENR',\n",
    "    'ENROLL': 'ALL_USCENSUS'\n",
    "    },\n",
    "    axis=1, inplace=True)\n",
    "\n",
    "\n",
    "df.dropna(subset=['AVG_MATH_8_SCORE'], inplace=True)\n",
    "df.isna().sum()\n",
    "df.shape"
   ]
  },
  {
   "cell_type": "markdown",
   "metadata": {},
   "source": [
    "<h2>Exploratory Data Analysis (EDA) </h2>"
   ]
  },
  {
   "cell_type": "markdown",
   "metadata": {},
   "source": [
    "Chosen one of Grade 4 Reading, Grade 4 Math, or Grade 8 Math to focus on: *Grade 8 Math*"
   ]
  },
  {
   "cell_type": "markdown",
   "metadata": {},
   "source": [
    "How many years of data are logged in our dataset? "
   ]
  },
  {
   "cell_type": "code",
   "execution_count": 110,
   "metadata": {},
   "outputs": [
    {
     "data": {
      "text/plain": [
       "29"
      ]
     },
     "execution_count": 110,
     "metadata": {},
     "output_type": "execute_result"
    }
   ],
   "source": [
    "df[\"YEAR\"].max() - df[\"YEAR\"].min() "
   ]
  },
  {
   "cell_type": "markdown",
   "metadata": {},
   "source": [
    "Let's compare Michigan to Ohio. Which state has the higher average across all years in the test you chose?"
   ]
  },
  {
   "cell_type": "code",
   "execution_count": 111,
   "metadata": {},
   "outputs": [
    {
     "name": "stdout",
     "output_type": "stream",
     "text": [
      "276.1666666666667 \n",
      " 282.25 \n",
      "Ohio has higher average\n"
     ]
    }
   ],
   "source": [
    "mich = df[df[\"STATE\"] == 'MICHIGAN']\n",
    "ohio = df[df[\"STATE\"] == 'OHIO']\n",
    "mich['AVG_MATH_8_SCORE'].mean()\n",
    "print(mich['AVG_MATH_8_SCORE'].mean(),\"\\n\",ohio['AVG_MATH_8_SCORE'].mean(),\"\\nOhio has higher average\")"
   ]
  },
  {
   "cell_type": "markdown",
   "metadata": {},
   "source": [
    "Find the average for your chosen test across all states in 2019"
   ]
  },
  {
   "cell_type": "code",
   "execution_count": 112,
   "metadata": {},
   "outputs": [
    {
     "name": "stdout",
     "output_type": "stream",
     "text": [
      "281.2641509433962\n"
     ]
    }
   ],
   "source": [
    "results2019 = df[df[\"YEAR\"] == 2019]\n",
    "print(results2019['AVG_MATH_8_SCORE'].mean())"
   ]
  },
  {
   "cell_type": "markdown",
   "metadata": {},
   "source": [
    "For each state, find a maximum value for your chosen test score\n",
    "\n",
    "Refer to the `Grouping and Aggregating` section in Tutorial 0 if you are stuck."
   ]
  },
  {
   "cell_type": "code",
   "execution_count": 113,
   "metadata": {},
   "outputs": [
    {
     "data": {
      "text/html": [
       "<div>\n",
       "<style scoped>\n",
       "    .dataframe tbody tr th:only-of-type {\n",
       "        vertical-align: middle;\n",
       "    }\n",
       "\n",
       "    .dataframe tbody tr th {\n",
       "        vertical-align: top;\n",
       "    }\n",
       "\n",
       "    .dataframe thead th {\n",
       "        text-align: right;\n",
       "    }\n",
       "</style>\n",
       "<table border=\"1\" class=\"dataframe\">\n",
       "  <thead>\n",
       "    <tr style=\"text-align: right;\">\n",
       "      <th></th>\n",
       "      <th>count</th>\n",
       "      <th>mean</th>\n",
       "      <th>std</th>\n",
       "      <th>min</th>\n",
       "      <th>25%</th>\n",
       "      <th>50%</th>\n",
       "      <th>75%</th>\n",
       "      <th>max</th>\n",
       "    </tr>\n",
       "    <tr>\n",
       "      <th>STATE</th>\n",
       "      <th></th>\n",
       "      <th></th>\n",
       "      <th></th>\n",
       "      <th></th>\n",
       "      <th></th>\n",
       "      <th></th>\n",
       "      <th></th>\n",
       "      <th></th>\n",
       "    </tr>\n",
       "  </thead>\n",
       "  <tbody>\n",
       "    <tr>\n",
       "      <th>ALABAMA</th>\n",
       "      <td>12.0</td>\n",
       "      <td>264.166667</td>\n",
       "      <td>6.042777</td>\n",
       "      <td>252.0</td>\n",
       "      <td>262.00</td>\n",
       "      <td>266.5</td>\n",
       "      <td>269.00</td>\n",
       "      <td>269.0</td>\n",
       "    </tr>\n",
       "    <tr>\n",
       "      <th>ALASKA</th>\n",
       "      <td>9.0</td>\n",
       "      <td>280.000000</td>\n",
       "      <td>3.122499</td>\n",
       "      <td>274.0</td>\n",
       "      <td>279.00</td>\n",
       "      <td>280.0</td>\n",
       "      <td>283.00</td>\n",
       "      <td>283.0</td>\n",
       "    </tr>\n",
       "    <tr>\n",
       "      <th>ARIZONA</th>\n",
       "      <td>12.0</td>\n",
       "      <td>274.666667</td>\n",
       "      <td>7.139306</td>\n",
       "      <td>260.0</td>\n",
       "      <td>270.50</td>\n",
       "      <td>276.5</td>\n",
       "      <td>280.00</td>\n",
       "      <td>283.0</td>\n",
       "    </tr>\n",
       "    <tr>\n",
       "      <th>ARKANSAS</th>\n",
       "      <td>12.0</td>\n",
       "      <td>269.750000</td>\n",
       "      <td>8.708669</td>\n",
       "      <td>256.0</td>\n",
       "      <td>263.75</td>\n",
       "      <td>274.0</td>\n",
       "      <td>275.25</td>\n",
       "      <td>279.0</td>\n",
       "    </tr>\n",
       "    <tr>\n",
       "      <th>CALIFORNIA</th>\n",
       "      <td>12.0</td>\n",
       "      <td>269.166667</td>\n",
       "      <td>6.965282</td>\n",
       "      <td>256.0</td>\n",
       "      <td>265.50</td>\n",
       "      <td>270.0</td>\n",
       "      <td>275.25</td>\n",
       "      <td>277.0</td>\n",
       "    </tr>\n",
       "    <tr>\n",
       "      <th>COLORADO</th>\n",
       "      <td>11.0</td>\n",
       "      <td>283.181818</td>\n",
       "      <td>7.467505</td>\n",
       "      <td>267.0</td>\n",
       "      <td>282.00</td>\n",
       "      <td>286.0</td>\n",
       "      <td>286.50</td>\n",
       "      <td>292.0</td>\n",
       "    </tr>\n",
       "    <tr>\n",
       "      <th>CONNECTICUT</th>\n",
       "      <td>12.0</td>\n",
       "      <td>282.250000</td>\n",
       "      <td>5.395705</td>\n",
       "      <td>270.0</td>\n",
       "      <td>281.00</td>\n",
       "      <td>284.0</td>\n",
       "      <td>285.25</td>\n",
       "      <td>289.0</td>\n",
       "    </tr>\n",
       "    <tr>\n",
       "      <th>DELAWARE</th>\n",
       "      <td>11.0</td>\n",
       "      <td>277.181818</td>\n",
       "      <td>7.897065</td>\n",
       "      <td>261.0</td>\n",
       "      <td>277.00</td>\n",
       "      <td>280.0</td>\n",
       "      <td>282.50</td>\n",
       "      <td>284.0</td>\n",
       "    </tr>\n",
       "    <tr>\n",
       "      <th>DISTRICT_OF_COLUMBIA</th>\n",
       "      <td>12.0</td>\n",
       "      <td>251.166667</td>\n",
       "      <td>13.482874</td>\n",
       "      <td>231.0</td>\n",
       "      <td>241.00</td>\n",
       "      <td>251.0</td>\n",
       "      <td>263.50</td>\n",
       "      <td>269.0</td>\n",
       "    </tr>\n",
       "    <tr>\n",
       "      <th>DODEA</th>\n",
       "      <td>10.0</td>\n",
       "      <td>287.200000</td>\n",
       "      <td>4.756282</td>\n",
       "      <td>277.0</td>\n",
       "      <td>285.00</td>\n",
       "      <td>287.5</td>\n",
       "      <td>290.75</td>\n",
       "      <td>293.0</td>\n",
       "    </tr>\n",
       "    <tr>\n",
       "      <th>FLORIDA</th>\n",
       "      <td>11.0</td>\n",
       "      <td>273.454545</td>\n",
       "      <td>8.442318</td>\n",
       "      <td>255.0</td>\n",
       "      <td>272.50</td>\n",
       "      <td>277.0</td>\n",
       "      <td>279.00</td>\n",
       "      <td>281.0</td>\n",
       "    </tr>\n",
       "    <tr>\n",
       "      <th>GEORGIA</th>\n",
       "      <td>12.0</td>\n",
       "      <td>272.833333</td>\n",
       "      <td>7.929615</td>\n",
       "      <td>259.0</td>\n",
       "      <td>268.75</td>\n",
       "      <td>276.5</td>\n",
       "      <td>279.00</td>\n",
       "      <td>281.0</td>\n",
       "    </tr>\n",
       "    <tr>\n",
       "      <th>HAWAII</th>\n",
       "      <td>12.0</td>\n",
       "      <td>269.583333</td>\n",
       "      <td>9.443211</td>\n",
       "      <td>251.0</td>\n",
       "      <td>265.00</td>\n",
       "      <td>271.5</td>\n",
       "      <td>277.25</td>\n",
       "      <td>281.0</td>\n",
       "    </tr>\n",
       "    <tr>\n",
       "      <th>IDAHO</th>\n",
       "      <td>12.0</td>\n",
       "      <td>281.833333</td>\n",
       "      <td>5.166911</td>\n",
       "      <td>271.0</td>\n",
       "      <td>279.25</td>\n",
       "      <td>284.0</td>\n",
       "      <td>286.00</td>\n",
       "      <td>287.0</td>\n",
       "    </tr>\n",
       "    <tr>\n",
       "      <th>ILLINOIS</th>\n",
       "      <td>11.0</td>\n",
       "      <td>278.909091</td>\n",
       "      <td>6.640099</td>\n",
       "      <td>261.0</td>\n",
       "      <td>277.50</td>\n",
       "      <td>282.0</td>\n",
       "      <td>282.50</td>\n",
       "      <td>285.0</td>\n",
       "    </tr>\n",
       "    <tr>\n",
       "      <th>INDIANA</th>\n",
       "      <td>12.0</td>\n",
       "      <td>282.250000</td>\n",
       "      <td>6.916712</td>\n",
       "      <td>267.0</td>\n",
       "      <td>281.00</td>\n",
       "      <td>285.0</td>\n",
       "      <td>287.00</td>\n",
       "      <td>288.0</td>\n",
       "    </tr>\n",
       "    <tr>\n",
       "      <th>IOWA</th>\n",
       "      <td>11.0</td>\n",
       "      <td>283.818182</td>\n",
       "      <td>2.272364</td>\n",
       "      <td>278.0</td>\n",
       "      <td>283.50</td>\n",
       "      <td>284.0</td>\n",
       "      <td>285.00</td>\n",
       "      <td>286.0</td>\n",
       "    </tr>\n",
       "    <tr>\n",
       "      <th>KANSAS</th>\n",
       "      <td>10.0</td>\n",
       "      <td>286.100000</td>\n",
       "      <td>3.247221</td>\n",
       "      <td>282.0</td>\n",
       "      <td>284.00</td>\n",
       "      <td>284.5</td>\n",
       "      <td>289.75</td>\n",
       "      <td>290.0</td>\n",
       "    </tr>\n",
       "    <tr>\n",
       "      <th>KENTUCKY</th>\n",
       "      <td>12.0</td>\n",
       "      <td>274.333333</td>\n",
       "      <td>7.738139</td>\n",
       "      <td>257.0</td>\n",
       "      <td>273.00</td>\n",
       "      <td>278.0</td>\n",
       "      <td>279.00</td>\n",
       "      <td>282.0</td>\n",
       "    </tr>\n",
       "    <tr>\n",
       "      <th>LOUISIANA</th>\n",
       "      <td>12.0</td>\n",
       "      <td>265.500000</td>\n",
       "      <td>9.130369</td>\n",
       "      <td>246.0</td>\n",
       "      <td>264.25</td>\n",
       "      <td>268.0</td>\n",
       "      <td>272.00</td>\n",
       "      <td>273.0</td>\n",
       "    </tr>\n",
       "    <tr>\n",
       "      <th>MAINE</th>\n",
       "      <td>11.0</td>\n",
       "      <td>284.000000</td>\n",
       "      <td>3.316625</td>\n",
       "      <td>279.0</td>\n",
       "      <td>281.50</td>\n",
       "      <td>284.0</td>\n",
       "      <td>286.00</td>\n",
       "      <td>289.0</td>\n",
       "    </tr>\n",
       "    <tr>\n",
       "      <th>MARYLAND</th>\n",
       "      <td>12.0</td>\n",
       "      <td>278.916667</td>\n",
       "      <td>8.877534</td>\n",
       "      <td>261.0</td>\n",
       "      <td>276.50</td>\n",
       "      <td>280.5</td>\n",
       "      <td>286.25</td>\n",
       "      <td>288.0</td>\n",
       "    </tr>\n",
       "    <tr>\n",
       "      <th>MASSACHUSETTS</th>\n",
       "      <td>11.0</td>\n",
       "      <td>292.363636</td>\n",
       "      <td>9.069429</td>\n",
       "      <td>273.0</td>\n",
       "      <td>289.50</td>\n",
       "      <td>297.0</td>\n",
       "      <td>298.50</td>\n",
       "      <td>301.0</td>\n",
       "    </tr>\n",
       "    <tr>\n",
       "      <th>MICHIGAN</th>\n",
       "      <td>12.0</td>\n",
       "      <td>276.166667</td>\n",
       "      <td>5.219428</td>\n",
       "      <td>264.0</td>\n",
       "      <td>276.75</td>\n",
       "      <td>277.5</td>\n",
       "      <td>280.00</td>\n",
       "      <td>280.0</td>\n",
       "    </tr>\n",
       "    <tr>\n",
       "      <th>MINNESOTA</th>\n",
       "      <td>12.0</td>\n",
       "      <td>290.000000</td>\n",
       "      <td>6.045284</td>\n",
       "      <td>275.0</td>\n",
       "      <td>289.25</td>\n",
       "      <td>291.5</td>\n",
       "      <td>294.00</td>\n",
       "      <td>295.0</td>\n",
       "    </tr>\n",
       "    <tr>\n",
       "      <th>MISSISSIPPI</th>\n",
       "      <td>11.0</td>\n",
       "      <td>264.454545</td>\n",
       "      <td>8.418594</td>\n",
       "      <td>246.0</td>\n",
       "      <td>261.50</td>\n",
       "      <td>265.0</td>\n",
       "      <td>271.00</td>\n",
       "      <td>274.0</td>\n",
       "    </tr>\n",
       "    <tr>\n",
       "      <th>MISSOURI</th>\n",
       "      <td>11.0</td>\n",
       "      <td>279.272727</td>\n",
       "      <td>4.755858</td>\n",
       "      <td>271.0</td>\n",
       "      <td>277.50</td>\n",
       "      <td>281.0</td>\n",
       "      <td>281.50</td>\n",
       "      <td>286.0</td>\n",
       "    </tr>\n",
       "    <tr>\n",
       "      <th>MONTANA</th>\n",
       "      <td>11.0</td>\n",
       "      <td>286.818182</td>\n",
       "      <td>3.600505</td>\n",
       "      <td>280.0</td>\n",
       "      <td>285.50</td>\n",
       "      <td>286.0</td>\n",
       "      <td>288.00</td>\n",
       "      <td>293.0</td>\n",
       "    </tr>\n",
       "    <tr>\n",
       "      <th>NATIONAL</th>\n",
       "      <td>13.0</td>\n",
       "      <td>277.769231</td>\n",
       "      <td>7.013723</td>\n",
       "      <td>263.0</td>\n",
       "      <td>273.00</td>\n",
       "      <td>281.0</td>\n",
       "      <td>283.00</td>\n",
       "      <td>285.0</td>\n",
       "    </tr>\n",
       "    <tr>\n",
       "      <th>NEBRASKA</th>\n",
       "      <td>12.0</td>\n",
       "      <td>282.916667</td>\n",
       "      <td>3.423404</td>\n",
       "      <td>276.0</td>\n",
       "      <td>281.50</td>\n",
       "      <td>284.0</td>\n",
       "      <td>285.00</td>\n",
       "      <td>288.0</td>\n",
       "    </tr>\n",
       "    <tr>\n",
       "      <th>NEVADA</th>\n",
       "      <td>10.0</td>\n",
       "      <td>272.800000</td>\n",
       "      <td>4.237400</td>\n",
       "      <td>265.0</td>\n",
       "      <td>270.25</td>\n",
       "      <td>274.0</td>\n",
       "      <td>275.00</td>\n",
       "      <td>278.0</td>\n",
       "    </tr>\n",
       "    <tr>\n",
       "      <th>NEW_HAMPSHIRE</th>\n",
       "      <td>11.0</td>\n",
       "      <td>287.636364</td>\n",
       "      <td>7.032393</td>\n",
       "      <td>273.0</td>\n",
       "      <td>285.50</td>\n",
       "      <td>288.0</td>\n",
       "      <td>292.50</td>\n",
       "      <td>296.0</td>\n",
       "    </tr>\n",
       "    <tr>\n",
       "      <th>NEW_JERSEY</th>\n",
       "      <td>11.0</td>\n",
       "      <td>286.909091</td>\n",
       "      <td>9.027232</td>\n",
       "      <td>270.0</td>\n",
       "      <td>282.50</td>\n",
       "      <td>292.0</td>\n",
       "      <td>293.00</td>\n",
       "      <td>296.0</td>\n",
       "    </tr>\n",
       "    <tr>\n",
       "      <th>NEW_MEXICO</th>\n",
       "      <td>12.0</td>\n",
       "      <td>266.250000</td>\n",
       "      <td>5.863989</td>\n",
       "      <td>256.0</td>\n",
       "      <td>262.25</td>\n",
       "      <td>268.5</td>\n",
       "      <td>270.25</td>\n",
       "      <td>274.0</td>\n",
       "    </tr>\n",
       "    <tr>\n",
       "      <th>NEW_YORK</th>\n",
       "      <td>12.0</td>\n",
       "      <td>277.083333</td>\n",
       "      <td>7.089792</td>\n",
       "      <td>261.0</td>\n",
       "      <td>277.75</td>\n",
       "      <td>280.0</td>\n",
       "      <td>280.50</td>\n",
       "      <td>283.0</td>\n",
       "    </tr>\n",
       "    <tr>\n",
       "      <th>NORTH_CAROLINA</th>\n",
       "      <td>12.0</td>\n",
       "      <td>277.833333</td>\n",
       "      <td>11.574528</td>\n",
       "      <td>250.0</td>\n",
       "      <td>279.75</td>\n",
       "      <td>282.0</td>\n",
       "      <td>284.00</td>\n",
       "      <td>286.0</td>\n",
       "    </tr>\n",
       "    <tr>\n",
       "      <th>NORTH_DAKOTA</th>\n",
       "      <td>12.0</td>\n",
       "      <td>287.500000</td>\n",
       "      <td>4.033947</td>\n",
       "      <td>281.0</td>\n",
       "      <td>285.25</td>\n",
       "      <td>287.5</td>\n",
       "      <td>291.25</td>\n",
       "      <td>293.0</td>\n",
       "    </tr>\n",
       "    <tr>\n",
       "      <th>OHIO</th>\n",
       "      <td>12.0</td>\n",
       "      <td>282.250000</td>\n",
       "      <td>8.091803</td>\n",
       "      <td>264.0</td>\n",
       "      <td>281.75</td>\n",
       "      <td>285.0</td>\n",
       "      <td>286.50</td>\n",
       "      <td>290.0</td>\n",
       "    </tr>\n",
       "    <tr>\n",
       "      <th>OKLAHOMA</th>\n",
       "      <td>12.0</td>\n",
       "      <td>273.000000</td>\n",
       "      <td>4.410731</td>\n",
       "      <td>263.0</td>\n",
       "      <td>270.75</td>\n",
       "      <td>275.0</td>\n",
       "      <td>276.00</td>\n",
       "      <td>279.0</td>\n",
       "    </tr>\n",
       "    <tr>\n",
       "      <th>OREGON</th>\n",
       "      <td>11.0</td>\n",
       "      <td>281.363636</td>\n",
       "      <td>3.801913</td>\n",
       "      <td>271.0</td>\n",
       "      <td>280.50</td>\n",
       "      <td>282.0</td>\n",
       "      <td>283.50</td>\n",
       "      <td>285.0</td>\n",
       "    </tr>\n",
       "    <tr>\n",
       "      <th>PENNSYLVANIA</th>\n",
       "      <td>11.0</td>\n",
       "      <td>282.000000</td>\n",
       "      <td>7.402702</td>\n",
       "      <td>266.0</td>\n",
       "      <td>280.00</td>\n",
       "      <td>285.0</td>\n",
       "      <td>286.00</td>\n",
       "      <td>290.0</td>\n",
       "    </tr>\n",
       "    <tr>\n",
       "      <th>RHODE_ISLAND</th>\n",
       "      <td>12.0</td>\n",
       "      <td>274.416667</td>\n",
       "      <td>7.076958</td>\n",
       "      <td>260.0</td>\n",
       "      <td>271.25</td>\n",
       "      <td>275.5</td>\n",
       "      <td>278.75</td>\n",
       "      <td>284.0</td>\n",
       "    </tr>\n",
       "    <tr>\n",
       "      <th>SOUTH_CAROLINA</th>\n",
       "      <td>11.0</td>\n",
       "      <td>275.818182</td>\n",
       "      <td>6.823755</td>\n",
       "      <td>261.0</td>\n",
       "      <td>275.50</td>\n",
       "      <td>277.0</td>\n",
       "      <td>280.50</td>\n",
       "      <td>282.0</td>\n",
       "    </tr>\n",
       "    <tr>\n",
       "      <th>SOUTH_DAKOTA</th>\n",
       "      <td>9.0</td>\n",
       "      <td>287.444444</td>\n",
       "      <td>2.242271</td>\n",
       "      <td>285.0</td>\n",
       "      <td>286.00</td>\n",
       "      <td>287.0</td>\n",
       "      <td>288.00</td>\n",
       "      <td>291.0</td>\n",
       "    </tr>\n",
       "    <tr>\n",
       "      <th>TENNESSEE</th>\n",
       "      <td>11.0</td>\n",
       "      <td>272.545455</td>\n",
       "      <td>6.962236</td>\n",
       "      <td>259.0</td>\n",
       "      <td>269.50</td>\n",
       "      <td>274.0</td>\n",
       "      <td>278.00</td>\n",
       "      <td>280.0</td>\n",
       "    </tr>\n",
       "    <tr>\n",
       "      <th>TEXAS</th>\n",
       "      <td>12.0</td>\n",
       "      <td>279.250000</td>\n",
       "      <td>9.677763</td>\n",
       "      <td>258.0</td>\n",
       "      <td>276.00</td>\n",
       "      <td>281.5</td>\n",
       "      <td>286.25</td>\n",
       "      <td>290.0</td>\n",
       "    </tr>\n",
       "    <tr>\n",
       "      <th>UTAH</th>\n",
       "      <td>11.0</td>\n",
       "      <td>281.636364</td>\n",
       "      <td>4.433345</td>\n",
       "      <td>274.0</td>\n",
       "      <td>280.00</td>\n",
       "      <td>283.0</td>\n",
       "      <td>284.50</td>\n",
       "      <td>287.0</td>\n",
       "    </tr>\n",
       "    <tr>\n",
       "      <th>VERMONT</th>\n",
       "      <td>10.0</td>\n",
       "      <td>289.200000</td>\n",
       "      <td>4.263541</td>\n",
       "      <td>281.0</td>\n",
       "      <td>287.00</td>\n",
       "      <td>289.0</td>\n",
       "      <td>292.50</td>\n",
       "      <td>295.0</td>\n",
       "    </tr>\n",
       "    <tr>\n",
       "      <th>VIRGINIA</th>\n",
       "      <td>12.0</td>\n",
       "      <td>282.416667</td>\n",
       "      <td>8.701707</td>\n",
       "      <td>264.0</td>\n",
       "      <td>280.25</td>\n",
       "      <td>286.5</td>\n",
       "      <td>288.00</td>\n",
       "      <td>290.0</td>\n",
       "    </tr>\n",
       "    <tr>\n",
       "      <th>WASHINGTON</th>\n",
       "      <td>9.0</td>\n",
       "      <td>286.666667</td>\n",
       "      <td>2.783882</td>\n",
       "      <td>281.0</td>\n",
       "      <td>285.00</td>\n",
       "      <td>287.0</td>\n",
       "      <td>289.00</td>\n",
       "      <td>290.0</td>\n",
       "    </tr>\n",
       "    <tr>\n",
       "      <th>WEST_VIRGINIA</th>\n",
       "      <td>12.0</td>\n",
       "      <td>268.666667</td>\n",
       "      <td>5.662209</td>\n",
       "      <td>256.0</td>\n",
       "      <td>268.25</td>\n",
       "      <td>270.5</td>\n",
       "      <td>272.25</td>\n",
       "      <td>274.0</td>\n",
       "    </tr>\n",
       "    <tr>\n",
       "      <th>WISCONSIN</th>\n",
       "      <td>11.0</td>\n",
       "      <td>285.363636</td>\n",
       "      <td>5.025390</td>\n",
       "      <td>274.0</td>\n",
       "      <td>284.50</td>\n",
       "      <td>288.0</td>\n",
       "      <td>289.00</td>\n",
       "      <td>289.0</td>\n",
       "    </tr>\n",
       "    <tr>\n",
       "      <th>WYOMING</th>\n",
       "      <td>12.0</td>\n",
       "      <td>283.333333</td>\n",
       "      <td>5.804909</td>\n",
       "      <td>272.0</td>\n",
       "      <td>280.50</td>\n",
       "      <td>286.0</td>\n",
       "      <td>287.25</td>\n",
       "      <td>289.0</td>\n",
       "    </tr>\n",
       "  </tbody>\n",
       "</table>\n",
       "</div>"
      ],
      "text/plain": [
       "                      count        mean        std    min     25%    50%  \\\n",
       "STATE                                                                      \n",
       "ALABAMA                12.0  264.166667   6.042777  252.0  262.00  266.5   \n",
       "ALASKA                  9.0  280.000000   3.122499  274.0  279.00  280.0   \n",
       "ARIZONA                12.0  274.666667   7.139306  260.0  270.50  276.5   \n",
       "ARKANSAS               12.0  269.750000   8.708669  256.0  263.75  274.0   \n",
       "CALIFORNIA             12.0  269.166667   6.965282  256.0  265.50  270.0   \n",
       "COLORADO               11.0  283.181818   7.467505  267.0  282.00  286.0   \n",
       "CONNECTICUT            12.0  282.250000   5.395705  270.0  281.00  284.0   \n",
       "DELAWARE               11.0  277.181818   7.897065  261.0  277.00  280.0   \n",
       "DISTRICT_OF_COLUMBIA   12.0  251.166667  13.482874  231.0  241.00  251.0   \n",
       "DODEA                  10.0  287.200000   4.756282  277.0  285.00  287.5   \n",
       "FLORIDA                11.0  273.454545   8.442318  255.0  272.50  277.0   \n",
       "GEORGIA                12.0  272.833333   7.929615  259.0  268.75  276.5   \n",
       "HAWAII                 12.0  269.583333   9.443211  251.0  265.00  271.5   \n",
       "IDAHO                  12.0  281.833333   5.166911  271.0  279.25  284.0   \n",
       "ILLINOIS               11.0  278.909091   6.640099  261.0  277.50  282.0   \n",
       "INDIANA                12.0  282.250000   6.916712  267.0  281.00  285.0   \n",
       "IOWA                   11.0  283.818182   2.272364  278.0  283.50  284.0   \n",
       "KANSAS                 10.0  286.100000   3.247221  282.0  284.00  284.5   \n",
       "KENTUCKY               12.0  274.333333   7.738139  257.0  273.00  278.0   \n",
       "LOUISIANA              12.0  265.500000   9.130369  246.0  264.25  268.0   \n",
       "MAINE                  11.0  284.000000   3.316625  279.0  281.50  284.0   \n",
       "MARYLAND               12.0  278.916667   8.877534  261.0  276.50  280.5   \n",
       "MASSACHUSETTS          11.0  292.363636   9.069429  273.0  289.50  297.0   \n",
       "MICHIGAN               12.0  276.166667   5.219428  264.0  276.75  277.5   \n",
       "MINNESOTA              12.0  290.000000   6.045284  275.0  289.25  291.5   \n",
       "MISSISSIPPI            11.0  264.454545   8.418594  246.0  261.50  265.0   \n",
       "MISSOURI               11.0  279.272727   4.755858  271.0  277.50  281.0   \n",
       "MONTANA                11.0  286.818182   3.600505  280.0  285.50  286.0   \n",
       "NATIONAL               13.0  277.769231   7.013723  263.0  273.00  281.0   \n",
       "NEBRASKA               12.0  282.916667   3.423404  276.0  281.50  284.0   \n",
       "NEVADA                 10.0  272.800000   4.237400  265.0  270.25  274.0   \n",
       "NEW_HAMPSHIRE          11.0  287.636364   7.032393  273.0  285.50  288.0   \n",
       "NEW_JERSEY             11.0  286.909091   9.027232  270.0  282.50  292.0   \n",
       "NEW_MEXICO             12.0  266.250000   5.863989  256.0  262.25  268.5   \n",
       "NEW_YORK               12.0  277.083333   7.089792  261.0  277.75  280.0   \n",
       "NORTH_CAROLINA         12.0  277.833333  11.574528  250.0  279.75  282.0   \n",
       "NORTH_DAKOTA           12.0  287.500000   4.033947  281.0  285.25  287.5   \n",
       "OHIO                   12.0  282.250000   8.091803  264.0  281.75  285.0   \n",
       "OKLAHOMA               12.0  273.000000   4.410731  263.0  270.75  275.0   \n",
       "OREGON                 11.0  281.363636   3.801913  271.0  280.50  282.0   \n",
       "PENNSYLVANIA           11.0  282.000000   7.402702  266.0  280.00  285.0   \n",
       "RHODE_ISLAND           12.0  274.416667   7.076958  260.0  271.25  275.5   \n",
       "SOUTH_CAROLINA         11.0  275.818182   6.823755  261.0  275.50  277.0   \n",
       "SOUTH_DAKOTA            9.0  287.444444   2.242271  285.0  286.00  287.0   \n",
       "TENNESSEE              11.0  272.545455   6.962236  259.0  269.50  274.0   \n",
       "TEXAS                  12.0  279.250000   9.677763  258.0  276.00  281.5   \n",
       "UTAH                   11.0  281.636364   4.433345  274.0  280.00  283.0   \n",
       "VERMONT                10.0  289.200000   4.263541  281.0  287.00  289.0   \n",
       "VIRGINIA               12.0  282.416667   8.701707  264.0  280.25  286.5   \n",
       "WASHINGTON              9.0  286.666667   2.783882  281.0  285.00  287.0   \n",
       "WEST_VIRGINIA          12.0  268.666667   5.662209  256.0  268.25  270.5   \n",
       "WISCONSIN              11.0  285.363636   5.025390  274.0  284.50  288.0   \n",
       "WYOMING                12.0  283.333333   5.804909  272.0  280.50  286.0   \n",
       "\n",
       "                         75%    max  \n",
       "STATE                                \n",
       "ALABAMA               269.00  269.0  \n",
       "ALASKA                283.00  283.0  \n",
       "ARIZONA               280.00  283.0  \n",
       "ARKANSAS              275.25  279.0  \n",
       "CALIFORNIA            275.25  277.0  \n",
       "COLORADO              286.50  292.0  \n",
       "CONNECTICUT           285.25  289.0  \n",
       "DELAWARE              282.50  284.0  \n",
       "DISTRICT_OF_COLUMBIA  263.50  269.0  \n",
       "DODEA                 290.75  293.0  \n",
       "FLORIDA               279.00  281.0  \n",
       "GEORGIA               279.00  281.0  \n",
       "HAWAII                277.25  281.0  \n",
       "IDAHO                 286.00  287.0  \n",
       "ILLINOIS              282.50  285.0  \n",
       "INDIANA               287.00  288.0  \n",
       "IOWA                  285.00  286.0  \n",
       "KANSAS                289.75  290.0  \n",
       "KENTUCKY              279.00  282.0  \n",
       "LOUISIANA             272.00  273.0  \n",
       "MAINE                 286.00  289.0  \n",
       "MARYLAND              286.25  288.0  \n",
       "MASSACHUSETTS         298.50  301.0  \n",
       "MICHIGAN              280.00  280.0  \n",
       "MINNESOTA             294.00  295.0  \n",
       "MISSISSIPPI           271.00  274.0  \n",
       "MISSOURI              281.50  286.0  \n",
       "MONTANA               288.00  293.0  \n",
       "NATIONAL              283.00  285.0  \n",
       "NEBRASKA              285.00  288.0  \n",
       "NEVADA                275.00  278.0  \n",
       "NEW_HAMPSHIRE         292.50  296.0  \n",
       "NEW_JERSEY            293.00  296.0  \n",
       "NEW_MEXICO            270.25  274.0  \n",
       "NEW_YORK              280.50  283.0  \n",
       "NORTH_CAROLINA        284.00  286.0  \n",
       "NORTH_DAKOTA          291.25  293.0  \n",
       "OHIO                  286.50  290.0  \n",
       "OKLAHOMA              276.00  279.0  \n",
       "OREGON                283.50  285.0  \n",
       "PENNSYLVANIA          286.00  290.0  \n",
       "RHODE_ISLAND          278.75  284.0  \n",
       "SOUTH_CAROLINA        280.50  282.0  \n",
       "SOUTH_DAKOTA          288.00  291.0  \n",
       "TENNESSEE             278.00  280.0  \n",
       "TEXAS                 286.25  290.0  \n",
       "UTAH                  284.50  287.0  \n",
       "VERMONT               292.50  295.0  \n",
       "VIRGINIA              288.00  290.0  \n",
       "WASHINGTON            289.00  290.0  \n",
       "WEST_VIRGINIA         272.25  274.0  \n",
       "WISCONSIN             289.00  289.0  \n",
       "WYOMING               287.25  289.0  "
      ]
     },
     "execution_count": 113,
     "metadata": {},
     "output_type": "execute_result"
    }
   ],
   "source": [
    "states = df.groupby(\"STATE\")\n",
    "states['AVG_MATH_8_SCORE'].describe()"
   ]
  },
  {
   "cell_type": "markdown",
   "metadata": {},
   "source": [
    "<h2> Feature Engineering </h2>\n",
    "\n",
    "After exploring the data, you can choose to modify features that you would use to predict the performance of the students on your chosen response variable. \n",
    "\n",
    "You can also create your own features. For example, perhaps you figured that maybe a state's expenditure per student may affect their overall academic performance so you create a expenditure_per_student feature.\n",
    "\n",
    "Use this space to modify or create features."
   ]
  },
  {
   "cell_type": "code",
   "execution_count": 114,
   "metadata": {},
   "outputs": [],
   "source": [
    "# let's create a new column which represents expenditure per student\n",
    "df['SUPPORT_SERVICES_EXPENDITURE_PER_STUDENT'] = df['SUPPORT_SERVICES_EXPENDITURE'] / df['ALL_USCENSUS']\n",
    "df['TEACHING_EXPENDITURE_RATIO'] = df['INSTRUCTION_EXPENDITURE'] / df['TOTAL_EXPENDITURE']"
   ]
  },
  {
   "cell_type": "markdown",
   "metadata": {},
   "source": [
    "Feature engineering justification: **I divided teaching expenditure by total expenditure to show a ratio of eduation funding in comparison to total expenditure**"
   ]
  },
  {
   "cell_type": "markdown",
   "metadata": {},
   "source": [
    "<h2>Visualization</h2>\n",
    "\n",
    "Investigate the relationship between your chosen response variable and at least two predictors using visualizations. Write down your observations.\n",
    "\n",
    "**Visualization 1**"
   ]
  },
  {
   "cell_type": "code",
   "execution_count": 95,
   "metadata": {},
   "outputs": [
    {
     "data": {
      "text/plain": [
       "<Axes: title={'center': 'Distribution of 8th Grade Math Scores'}, ylabel='Frequency'>"
      ]
     },
     "execution_count": 95,
     "metadata": {},
     "output_type": "execute_result"
    },
    {
     "data": {
      "image/png": "[encoded data removed]",
      "text/plain": [
       "<Figure size 640x480 with 1 Axes>"
      ]
     },
     "metadata": {},
     "output_type": "display_data"
    }
   ],
   "source": [
    "df[df['STATE'] == \"MICHIGAN\"].AVG_MATH_8_SCORE.plot.hist(title=\"Distribution of 8th Grade Math Scores\", edgecolor=\"black\")"
   ]
  },
  {
   "cell_type": "markdown",
   "metadata": {},
   "source": [
    "**Michigan distribution is not normal. I think this is heavily influenced by the limited sample size of only 12 records** In this case I would say, that we will need to make the sample bigger to derive conclusions."
   ]
  },
  {
   "cell_type": "markdown",
   "metadata": {},
   "source": [
    "**Visualization 2**"
   ]
  },
  {
   "cell_type": "code",
   "execution_count": 115,
   "metadata": {},
   "outputs": [
    {
     "data": {
      "text/plain": [
       "Text(0, 0.5, '8th Grade Math Score')"
      ]
     },
     "execution_count": 115,
     "metadata": {},
     "output_type": "execute_result"
    },
    {
     "data": {
      "image/png": "[encoded data removed]",
      "text/plain": [
       "<Figure size 640x480 with 1 Axes>"
      ]
     },
     "metadata": {},
     "output_type": "display_data"
    }
   ],
   "source": [
    "df.plot.scatter(x='INSTRUCTION_EXPENDITURE', y='AVG_MATH_8_SCORE', alpha=0.6)\n",
    "plt.xlabel('Teaching Expenditure')\n",
    "plt.ylabel('8th Grade Math Score')"
   ]
  },
  {
   "cell_type": "markdown",
   "metadata": {},
   "source": [
    "**We can't say there's a correlation between 8th Grade Math score and teaching expenditure** This came as a surprise to me, it's a bit more correlated than completely random, but not by a much"
   ]
  },
  {
   "cell_type": "markdown",
   "metadata": {},
   "source": [
    "<h2> Data Creation </h2>\n",
    "\n",
    "_Use this space to create train/test data_"
   ]
  },
  {
   "cell_type": "code",
   "execution_count": 116,
   "metadata": {},
   "outputs": [],
   "source": [
    "from sklearn.model_selection import train_test_split"
   ]
  },
  {
   "cell_type": "code",
   "execution_count": 117,
   "metadata": {},
   "outputs": [],
   "source": [
    "X = df[['ALL_USCENSUS','AVG_READING_8_SCORE','AVG_READING_4_SCORE']].dropna()\n",
    "y = df.loc[X.index]['AVG_MATH_8_SCORE']"
   ]
  },
  {
   "cell_type": "code",
   "execution_count": 118,
   "metadata": {},
   "outputs": [],
   "source": [
    " X_train, X_test, y_train, y_test = train_test_split(\n",
    "      X, y, test_size=0.3, random_state=42)"
   ]
  },
  {
   "cell_type": "markdown",
   "metadata": {},
   "source": [
    "<h2> Prediction </h2>"
   ]
  },
  {
   "cell_type": "markdown",
   "metadata": {},
   "source": [
    "ML Models [Resource](https://medium.com/@vijaya.beeravalli/comparison-of-machine-learning-classification-models-for-credit-card-default-data-c3cf805c9a5a)"
   ]
  },
  {
   "cell_type": "code",
   "execution_count": 119,
   "metadata": {},
   "outputs": [],
   "source": [
    "from sklearn.linear_model import LinearRegression"
   ]
  },
  {
   "cell_type": "code",
   "execution_count": 120,
   "metadata": {},
   "outputs": [],
   "source": [
    "model = LinearRegression()"
   ]
  },
  {
   "cell_type": "code",
   "execution_count": 121,
   "metadata": {},
   "outputs": [
    {
     "data": {
      "text/html": [
       "<style>#sk-container-id-3 {color: black;background-color: white;}#sk-container-id-3 pre{padding: 0;}#sk-container-id-3 div.sk-toggleable {background-color: white;}#sk-container-id-3 label.sk-toggleable__label {cursor: pointer;display: block;width: 100%;margin-bottom: 0;padding: 0.3em;box-sizing: border-box;text-align: center;}#sk-container-id-3 label.sk-toggleable__label-arrow:before {content: \"▸\";float: left;margin-right: 0.25em;color: #696969;}#sk-container-id-3 label.sk-toggleable__label-arrow:hover:before {color: black;}#sk-container-id-3 div.sk-estimator:hover label.sk-toggleable__label-arrow:before {color: black;}#sk-container-id-3 div.sk-toggleable__content {max-height: 0;max-width: 0;overflow: hidden;text-align: left;background-color: #f0f8ff;}#sk-container-id-3 div.sk-toggleable__content pre {margin: 0.2em;color: black;border-radius: 0.25em;background-color: #f0f8ff;}#sk-container-id-3 input.sk-toggleable__control:checked~div.sk-toggleable__content {max-height: 200px;max-width: 100%;overflow: auto;}#sk-container-id-3 input.sk-toggleable__control:checked~label.sk-toggleable__label-arrow:before {content: \"▾\";}#sk-container-id-3 div.sk-estimator input.sk-toggleable__control:checked~label.sk-toggleable__label {background-color: #d4ebff;}#sk-container-id-3 div.sk-label input.sk-toggleable__control:checked~label.sk-toggleable__label {background-color: #d4ebff;}#sk-container-id-3 input.sk-hidden--visually {border: 0;clip: rect(1px 1px 1px 1px);clip: rect(1px, 1px, 1px, 1px);height: 1px;margin: -1px;overflow: hidden;padding: 0;position: absolute;width: 1px;}#sk-container-id-3 div.sk-estimator {font-family: monospace;background-color: #f0f8ff;border: 1px dotted black;border-radius: 0.25em;box-sizing: border-box;margin-bottom: 0.5em;}#sk-container-id-3 div.sk-estimator:hover {background-color: #d4ebff;}#sk-container-id-3 div.sk-parallel-item::after {content: \"\";width: 100%;border-bottom: 1px solid gray;flex-grow: 1;}#sk-container-id-3 div.sk-label:hover label.sk-toggleable__label {background-color: #d4ebff;}#sk-container-id-3 div.sk-serial::before {content: \"\";position: absolute;border-left: 1px solid gray;box-sizing: border-box;top: 0;bottom: 0;left: 50%;z-index: 0;}#sk-container-id-3 div.sk-serial {display: flex;flex-direction: column;align-items: center;background-color: white;padding-right: 0.2em;padding-left: 0.2em;position: relative;}#sk-container-id-3 div.sk-item {position: relative;z-index: 1;}#sk-container-id-3 div.sk-parallel {display: flex;align-items: stretch;justify-content: center;background-color: white;position: relative;}#sk-container-id-3 div.sk-item::before, #sk-container-id-3 div.sk-parallel-item::before {content: \"\";position: absolute;border-left: 1px solid gray;box-sizing: border-box;top: 0;bottom: 0;left: 50%;z-index: -1;}#sk-container-id-3 div.sk-parallel-item {display: flex;flex-direction: column;z-index: 1;position: relative;background-color: white;}#sk-container-id-3 div.sk-parallel-item:first-child::after {align-self: flex-end;width: 50%;}#sk-container-id-3 div.sk-parallel-item:last-child::after {align-self: flex-start;width: 50%;}#sk-container-id-3 div.sk-parallel-item:only-child::after {width: 0;}#sk-container-id-3 div.sk-dashed-wrapped {border: 1px dashed gray;margin: 0 0.4em 0.5em 0.4em;box-sizing: border-box;padding-bottom: 0.4em;background-color: white;}#sk-container-id-3 div.sk-label label {font-family: monospace;font-weight: bold;display: inline-block;line-height: 1.2em;}#sk-container-id-3 div.sk-label-container {text-align: center;}#sk-container-id-3 div.sk-container {/* jupyter's `normalize.less` sets `[hidden] { display: none; }` but bootstrap.min.css set `[hidden] { display: none !important; }` so we also need the `!important` here to be able to override the default hidden behavior on the sphinx rendered scikit-learn.org. See: https://github.com/scikit-learn/scikit-learn/issues/21755 */display: inline-block !important;position: relative;}#sk-container-id-3 div.sk-text-repr-fallback {display: none;}</style><div id=\"sk-container-id-3\" class=\"sk-top-container\"><div class=\"sk-text-repr-fallback\"><pre>LinearRegression()</pre><b>In a Jupyter environment, please rerun this cell to show the HTML representation or trust the notebook. <br />On GitHub, the HTML representation is unable to render, please try loading this page with nbviewer.org.</b></div><div class=\"sk-container\" hidden><div class=\"sk-item\"><div class=\"sk-estimator sk-toggleable\"><input class=\"sk-toggleable__control sk-hidden--visually\" id=\"sk-estimator-id-3\" type=\"checkbox\" checked><label for=\"sk-estimator-id-3\" class=\"sk-toggleable__label sk-toggleable__label-arrow\">LinearRegression</label><div class=\"sk-toggleable__content\"><pre>LinearRegression()</pre></div></div></div></div></div>"
      ],
      "text/plain": [
       "LinearRegression()"
      ]
     },
     "execution_count": 121,
     "metadata": {},
     "output_type": "execute_result"
    }
   ],
   "source": [
    "model.fit(X_train, y_train)"
   ]
  },
  {
   "cell_type": "code",
   "execution_count": 122,
   "metadata": {},
   "outputs": [],
   "source": [
    "y_pred = model.predict(X_test)"
   ]
  },
  {
   "cell_type": "markdown",
   "metadata": {},
   "source": [
    "## Evaluation"
   ]
  },
  {
   "cell_type": "markdown",
   "metadata": {},
   "source": [
    "Choose some metrics to evaluate the performance of your model, some of them are mentioned in the tutorial."
   ]
  },
  {
   "cell_type": "code",
   "execution_count": 123,
   "metadata": {},
   "outputs": [
    {
     "name": "stdout",
     "output_type": "stream",
     "text": [
      "0.8133319909965535\n",
      "0.8033611464801256\n"
     ]
    }
   ],
   "source": [
    "print(1 - ( 1-model.score(X, y) ) * ( len(y) - 1 ) / ( len(y) - X.shape[1] - 1 ))\n",
    "print(model.score(X_test, y_test))\n",
    "#Adjusted R-Squared"
   ]
  },
  {
   "cell_type": "markdown",
   "metadata": {},
   "source": [
    "We have copied over the graphs that visualize the model's performance on the training and testing set. \n",
    "\n",
    "Change `col_name` and modify the call to `plt.ylabel()` to isolate how a single predictor affects the model."
   ]
  },
  {
   "cell_type": "code",
   "execution_count": 124,
   "metadata": {},
   "outputs": [
    {
     "data": {
      "text/plain": [
       "Text(0.5, 1.0, 'Model Behavior On Training Set')"
      ]
     },
     "execution_count": 124,
     "metadata": {},
     "output_type": "execute_result"
    },
    {
     "data": {
      "image/png": "[encoded data removed]",
      "text/plain": [
       "<Figure size 1200x600 with 1 Axes>"
      ]
     },
     "metadata": {},
     "output_type": "display_data"
    }
   ],
   "source": [
    "col_name = 'AVG_READING_8_SCORE'\n",
    "\n",
    "f = plt.figure(figsize=(12,6))\n",
    "plt.scatter(X_train[col_name], y_train, color = \"red\")\n",
    "plt.scatter(X_train[col_name], model.predict(X_train), color = \"green\")\n",
    "\n",
    "plt.legend(['True Training','Predicted Training'])\n",
    "plt.xlabel(col_name)\n",
    "plt.ylabel('Math 8 score')\n",
    "plt.title(\"Model Behavior On Training Set\")"
   ]
  },
  {
   "cell_type": "code",
   "execution_count": 125,
   "metadata": {},
   "outputs": [
    {
     "data": {
      "text/plain": [
       "Text(0.5, 1.0, 'Model Behavior on Testing Set')"
      ]
     },
     "execution_count": 125,
     "metadata": {},
     "output_type": "execute_result"
    },
    {
     "data": {
      "image/png": "[encoded data removed]",
      "text/plain": [
       "<Figure size 1200x600 with 1 Axes>"
      ]
     },
     "metadata": {},
     "output_type": "display_data"
    }
   ],
   "source": [
    "col_name = 'AVG_READING_4_SCORE'\n",
    "\n",
    "f = plt.figure(figsize=(12,6))\n",
    "plt.scatter(X_test[col_name], y_test, color = \"blue\")\n",
    "plt.scatter(X_test[col_name], model.predict(X_test), color = \"black\")\n",
    "\n",
    "plt.legend(['True testing','Predicted testing'])\n",
    "plt.xlabel(col_name)\n",
    "plt.ylabel('Reading 4th Grade')\n",
    "plt.title(\"Model Behavior on Testing Set\")"
   ]
  },
  {
   "cell_type": "markdown",
   "metadata": {},
   "source": [
    "<h2> Summary </h2>"
   ]
  },
  {
   "cell_type": "markdown",
   "metadata": {},
   "source": [
    "**<WRITE A PARAGRAPH SUMMARIZING YOUR WORK, FINDINGS, AND THE PERFORMANCE OF YOUR MODEL\\>**\n",
    "\n",
    "Firstly, I cleaned and prepared the data. After we explored the data and found, that there's no correlation of state education expenditure with how well the students score in Grade 8th Math tests. Moreover we created a feature, that helps us to describe each state commitment to education by creating a ratio of teaching_expenditure / total_expenditure. Lastly we build a ML model, which was very succesfull given that the Adjusted R and R were 0.8133319909965535\n",
    "0.8033611464801256 respectively. The model success is also visible from scatter plots."
   ]
  }
 ],
 "metadata": {
  "kernelspec": {
   "display_name": "Python 3 (ipykernel)",
   "language": "python",
   "name": "python3"
  },
  "language_info": {
   "codemirror_mode": {
    "name": "ipython",
    "version": 3
   },
   "file_extension": ".py",
   "mimetype": "text/x-python",
   "name": "python",
   "nbconvert_exporter": "python",
   "pygments_lexer": "ipython3",
   "version": "3.11.3"
  },
  "vscode": {
   "interpreter": {
    "hash": "6cf8df3ff69f85f626faf55c10df6fe2cb9d1236b4dc73844ee4dc01369c2c99"
   }
  }
 },
 "nbformat": 4,
 "nbformat_minor": 4
}
